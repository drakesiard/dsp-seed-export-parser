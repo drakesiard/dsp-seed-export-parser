{
 "cells": [
  {
   "cell_type": "code",
   "execution_count": 33,
   "id": "c502c12d-1f6d-4a41-a68c-2223546a7895",
   "metadata": {},
   "outputs": [],
   "source": [
    "import json\n",
    "import re\n",
    "import os\n",
    "import numpy as np\n",
    "import pandas as pd"
   ]
  },
  {
   "cell_type": "code",
   "execution_count": 3,
   "id": "e3c2dc7d-6858-4967-8b6e-3e76f3489fed",
   "metadata": {},
   "outputs": [],
   "source": [
    "# export_path = '/mnt/c/' + r'\\Users\\Drake\\Documents\\Dyson Sphere Program\\dsp_seedexporter'.replace('\\\\', '/')\n",
    "export_path = '/run/user/1000/gvfs/smb-share:server=chonyi.local,share=dsp_seedexporter/'\n",
    "seed_re = re.compile(r'seed_(?P<seed>\\d{8}).json')"
   ]
  },
  {
   "cell_type": "code",
   "execution_count": 4,
   "id": "938fa3dc-3457-4101-82cc-c45a0ddaee8b",
   "metadata": {},
   "outputs": [],
   "source": [
    "files = sorted(filter(seed_re.match, os.listdir(export_path)))\n",
    "seeds = list(map(lambda x: seed_re.match(x).group('seed'), files))"
   ]
  },
  {
   "cell_type": "code",
   "execution_count": 5,
   "id": "94c73905-26d7-46de-9d55-7eddaf3856cd",
   "metadata": {},
   "outputs": [],
   "source": [
    "file = files[0]\n",
    "with open(os.path.join(export_path, file)) as fd:\n",
    "    universe = json.load(fd)"
   ]
  },
  {
   "cell_type": "code",
   "execution_count": 40,
   "id": "51e42f20-be05-4f22-99ed-bb0b69f525af",
   "metadata": {},
   "outputs": [],
   "source": [
    "distance = pd.DataFrame.from_records(data=[(k1, sum(np.fromiter(v1['position'].values(), dtype='float') ** 2) ** 0.5) for k1, v1 in universe['star'].items()], columns=['star', 'abs. dist.'])"
   ]
  },
  {
   "cell_type": "code",
   "execution_count": 43,
   "id": "dcd7c82d-e009-4366-89df-7cb2a1dab14f",
   "metadata": {},
   "outputs": [
    {
     "data": {
      "text/html": [
       "<div>\n",
       "<style scoped>\n",
       "    .dataframe tbody tr th:only-of-type {\n",
       "        vertical-align: middle;\n",
       "    }\n",
       "\n",
       "    .dataframe tbody tr th {\n",
       "        vertical-align: top;\n",
       "    }\n",
       "\n",
       "    .dataframe thead th {\n",
       "        text-align: right;\n",
       "    }\n",
       "</style>\n",
       "<table border=\"1\" class=\"dataframe\">\n",
       "  <thead>\n",
       "    <tr style=\"text-align: right;\">\n",
       "      <th></th>\n",
       "      <th>star</th>\n",
       "      <th>abs. dist.</th>\n",
       "    </tr>\n",
       "  </thead>\n",
       "  <tbody>\n",
       "    <tr>\n",
       "      <th>0</th>\n",
       "      <td>Delta Librae</td>\n",
       "      <td>0.000000</td>\n",
       "    </tr>\n",
       "    <tr>\n",
       "      <th>1</th>\n",
       "      <td>Kappa Octantis</td>\n",
       "      <td>2.962383</td>\n",
       "    </tr>\n",
       "    <tr>\n",
       "      <th>3</th>\n",
       "      <td>Epsilon Bootis</td>\n",
       "      <td>3.980839</td>\n",
       "    </tr>\n",
       "    <tr>\n",
       "      <th>2</th>\n",
       "      <td>29 Canis Majoris</td>\n",
       "      <td>5.103732</td>\n",
       "    </tr>\n",
       "    <tr>\n",
       "      <th>4</th>\n",
       "      <td>Theta Doradus</td>\n",
       "      <td>5.277552</td>\n",
       "    </tr>\n",
       "    <tr>\n",
       "      <th>...</th>\n",
       "      <td>...</td>\n",
       "      <td>...</td>\n",
       "    </tr>\n",
       "    <tr>\n",
       "      <th>58</th>\n",
       "      <td>η Monocerotis</td>\n",
       "      <td>31.073978</td>\n",
       "    </tr>\n",
       "    <tr>\n",
       "      <th>53</th>\n",
       "      <td>Choo</td>\n",
       "      <td>31.212935</td>\n",
       "    </tr>\n",
       "    <tr>\n",
       "      <th>44</th>\n",
       "      <td>Kornephoros</td>\n",
       "      <td>31.236804</td>\n",
       "    </tr>\n",
       "    <tr>\n",
       "      <th>52</th>\n",
       "      <td>Ashtaroth</td>\n",
       "      <td>32.733676</td>\n",
       "    </tr>\n",
       "    <tr>\n",
       "      <th>51</th>\n",
       "      <td>Zosma</td>\n",
       "      <td>35.910939</td>\n",
       "    </tr>\n",
       "  </tbody>\n",
       "</table>\n",
       "<p>64 rows × 2 columns</p>\n",
       "</div>"
      ],
      "text/plain": [
       "                star  abs. dist.\n",
       "0       Delta Librae    0.000000\n",
       "1     Kappa Octantis    2.962383\n",
       "3     Epsilon Bootis    3.980839\n",
       "2   29 Canis Majoris    5.103732\n",
       "4      Theta Doradus    5.277552\n",
       "..               ...         ...\n",
       "58     η Monocerotis   31.073978\n",
       "53              Choo   31.212935\n",
       "44       Kornephoros   31.236804\n",
       "52         Ashtaroth   32.733676\n",
       "51             Zosma   35.910939\n",
       "\n",
       "[64 rows x 2 columns]"
      ]
     },
     "execution_count": 43,
     "metadata": {},
     "output_type": "execute_result"
    }
   ],
   "source": [
    "distance.sort_values('abs. dist.')"
   ]
  },
  {
   "cell_type": "code",
   "execution_count": null,
   "id": "fcf6c9da-c392-4f4a-bcf5-416f90ef01c6",
   "metadata": {},
   "outputs": [],
   "source": []
  }
 ],
 "metadata": {
  "kernelspec": {
   "display_name": "workhorse",
   "language": "python",
   "name": "workhorse"
  },
  "language_info": {
   "codemirror_mode": {
    "name": "ipython",
    "version": 3
   },
   "file_extension": ".py",
   "mimetype": "text/x-python",
   "name": "python",
   "nbconvert_exporter": "python",
   "pygments_lexer": "ipython3",
   "version": "3.9.5"
  }
 },
 "nbformat": 4,
 "nbformat_minor": 5
}
